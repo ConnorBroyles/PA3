{
 "cells": [
  {
   "cell_type": "markdown",
   "id": "56bf1d83",
   "metadata": {},
   "source": [
    "# PA3, Connor Goodman, Fall 2021"
   ]
  },
  {
   "cell_type": "code",
   "execution_count": 29,
   "id": "07d21c9f",
   "metadata": {
    "scrolled": true
   },
   "outputs": [
    {
     "name": "stdout",
     "output_type": "stream",
     "text": [
      "Enter the length of side A: 5\n",
      "Enter the length of side B: 5\n",
      "Enter the length of side C: 5\n",
      "The area of the triangle is approximately  10.825317547305483 square units.\n",
      "Enter the length of side A: 12\n",
      "Enter the length of side B: 16\n",
      "Enter the length of side C: 21\n",
      "The area of the triangle is approximately  95.4512310030625 square units.\n",
      "The perimeter of the triangle is  49.0 liner units.\n"
     ]
    }
   ],
   "source": [
    "def calcArea():\n",
    "    a = 1\n",
    "    b = 1\n",
    "    c = 1\n",
    "    \n",
    "    a = float(input(\"Enter the length of side A: \"))\n",
    "    b = float(input(\"Enter the length of side B: \"))\n",
    "    c = float(input(\"Enter the length of side C: \"))\n",
    "    \n",
    "    s = (a+b+c)/2\n",
    "    aa = (s*(s-a)*(s-b)*(s-c)) ** 0.5\n",
    "    \n",
    "    print(\"The area of the triangle is approximately \", aa, \"square units.\")\n",
    "    \n",
    "def clacPerimeter():\n",
    "    a = 1\n",
    "    b = 1\n",
    "    c = 1\n",
    "    \n",
    "    a = float(input(\"Enter the length of side A: \"))\n",
    "    b = float(input(\"Enter the length of side B: \"))\n",
    "    c = float(input(\"Enter the length of side C: \"))\n",
    "    \n",
    "    per = a+b+c\n",
    "    \n",
    "    print(\"The perimeter of the triangle is \", per, \"liner units.\")\n",
    "    \n",
    "calcArea()\n",
    "calcPerimeter()\n"
   ]
  },
  {
   "cell_type": "code",
   "execution_count": 69,
   "id": "573c5145",
   "metadata": {},
   "outputs": [
    {
     "name": "stdout",
     "output_type": "stream",
     "text": [
      "Enter your guess: 800\n",
      "Too high! Guess again.\n",
      "Enter your guess: 700\n",
      "Too high! Guess again.\n",
      "Enter your guess: 600\n",
      "Too high! Guess again.\n",
      "Enter your guess: 400\n",
      "Too high! Guess again.\n",
      "Enter your guess: 100\n",
      "Too high! Guess again.\n",
      "Enter your guess: 50\n",
      "Too low! Guess again.\n",
      "Enter your guess: 80\n",
      "Too high! Guess again.\n",
      "Enter your guess: 70\n",
      "Too high! Guess again.\n",
      "Enter your guess: 60\n",
      "Too low! Guess again.\n",
      "Enter your guess: 66\n",
      "Too low! Guess again.\n",
      "Enter your guess: 69\n",
      "Too high! Guess again.\n",
      "Enter your guess: 68\n",
      "Too high! Guess again.\n",
      "Enter your guess: 67\n",
      "Correct!\n"
     ]
    }
   ],
   "source": [
    "import random\n",
    "\n",
    "number = random.randint(1,1000)\n",
    "\n",
    "def evaluateGuess():\n",
    "\n",
    "    guess = int(input(\"Enter your guess: \"))\n",
    "    \n",
    "    while guess != number:\n",
    "        \n",
    "        if guess < number:\n",
    "            print(\"Too low! Guess again.\")\n",
    "            guess = int(input(\"Enter your guess: \"))\n",
    "            \n",
    "        else:\n",
    "            print(\"Too high! Guess again.\")\n",
    "            guess = int(input(\"Enter your guess: \"))\n",
    "            \n",
    "    print(\"Correct!\")\n",
    "            \n",
    "evaluateGuess()"
   ]
  },
  {
   "cell_type": "code",
   "execution_count": 15,
   "id": "74136cf9",
   "metadata": {},
   "outputs": [
    {
     "name": "stdout",
     "output_type": "stream",
     "text": [
      "The mean temperature for the past 7 days is 73.14285714285714 degrees F.\n"
     ]
    }
   ],
   "source": [
    "import statistics\n",
    "\n",
    "temps=[67,61,72,83,63,73,93]\n",
    "#any tempatures will work\n",
    "\n",
    "def meanTemp(temps):\n",
    "    \n",
    "    mean = sum(temps) / len(temps)\n",
    "    \n",
    "    \n",
    "    \n",
    "    print(\"The mean temperature for the past\", len(temps), \"days is\", mean, \"degrees F.\")\n",
    "    \n",
    "meanTemp(temps)"
   ]
  }
 ],
 "metadata": {
  "kernelspec": {
   "display_name": "Python 3",
   "language": "python",
   "name": "python3"
  },
  "language_info": {
   "codemirror_mode": {
    "name": "ipython",
    "version": 3
   },
   "file_extension": ".py",
   "mimetype": "text/x-python",
   "name": "python",
   "nbconvert_exporter": "python",
   "pygments_lexer": "ipython3",
   "version": "3.8.8"
  }
 },
 "nbformat": 4,
 "nbformat_minor": 5
}
